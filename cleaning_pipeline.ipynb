{
 "cells": [
  {
   "cell_type": "code",
   "execution_count": null,
   "id": "63dfedbc",
   "metadata": {},
   "outputs": [],
   "source": [
    "import re\n",
    "\n",
    "lines = None\n",
    "cleaned_lines = []\n",
    "error_lines = []\n",
    "\n",
    "with open(\"L1-books.csv\", encoding=\"utf-8\") as f:\n",
    "    lines = f.readlines()\n",
    "\n",
    "\n",
    "\n",
    "re_perfect_line = re.compile(r'''\n",
    "^\n",
    "(?:\"((?:[^\"]|\"\")*)\"|([^,]+))             # 1️⃣ Title (quoted or unquoted, required)\n",
    ",\\s*\n",
    "(?:\"((?:[^\"]|\"\")*)\"|([^,]*))?            # 2️⃣ Description (quoted, unquoted, or missing)\n",
    ",\\s*\n",
    "(?:\"(\\[.*?\\])\"|(\\[.*?\\])|)?              # 3️⃣ Authors (quoted array, unquoted array, or missing)\n",
    ",\\s*\n",
    "([^,]*)                                  # 4️⃣ Publisher (string, possibly empty)\n",
    ",\\s*\n",
    "(\\d{4}(?:-\\d{2}){0,2}|)?                 # 5️⃣ Date (YYYY / YYYY-MM / YYYY-MM-DD or missing)\n",
    ",\\s*\n",
    "(?:\"(\\[.*?\\])\"|(\\[.*?\\])|)?              # 6️⃣ Categories (array or missing)\n",
    "\\s*$\n",
    "''', re.VERBOSE)\n",
    "\n",
    "re_date_end = re.compile(r'\\d$')\n",
    "\n",
    "re_unquoted_title_multi = re.compile(r'''\n",
    "^\n",
    "(?!\")            # no empieza con comillas\n",
    "(.+?,)           # grupo 1: título potencial (mínimo hasta una coma)\n",
    "(?=(?:[^\"]*\"[^\"]*\")*[^\"]*$)  # asegura que no estamos dentro de comillas\n",
    "(?=[^[]*\\[)      # y antes del primer array [\n",
    "''', re.VERBOSE)\n",
    "\n",
    "def quote_unquoted_title(line: str) -> str:\n",
    "    \"\"\"\n",
    "    Si el título no empieza con comillas pero contiene una o más comas\n",
    "    antes del siguiente bloque (array o descripción), encierra el título en comillas.\n",
    "    \"\"\"\n",
    "    if line.startswith('\"'):\n",
    "        return line  # ya está bien\n",
    "    # cortar al primer array o hasta donde empiecen las comas separadoras\n",
    "    parts = line.split(',[')\n",
    "    if len(parts) > 1:\n",
    "        before_array = parts[0]\n",
    "        # Si hay más de una coma antes del primer array, probablemente sea parte del título\n",
    "        if before_array.count(',') >= 2:\n",
    "            # título = todo antes de la segunda coma vacía o antes del array\n",
    "            title, rest = before_array, line[len(before_array):]\n",
    "            return f'\"{title.strip()}\"{rest}'\n",
    "    return line\n",
    "\n",
    "with open(\"L1-books-reviewed.csv\", \"w\") as f:\n",
    "    for line in lines:\n",
    "        line = line.strip()\n",
    "\n",
    "        # if end_date_pattern_1.search(line):\n",
    "        #     line = line + \",\"\n",
    "        \n",
    "        if bool(re_perfect_line.match(line)):\n",
    "            f.write(\"1,\" + line + \"\\n\")\n",
    "        else:\n",
    "            f.write(\"0,\" + line + \"\\n\")"
   ]
  },
  {
   "cell_type": "code",
   "execution_count": 35,
   "id": "4651e3e4",
   "metadata": {},
   "outputs": [
    {
     "name": "stdout",
     "output_type": "stream",
     "text": [
      "Title,description,authors,publisher,publishedDate,categories\n",
      "\"Voices from the tapes, recordings from the other world,\",['Peter Bander'],,1973,\n",
      "\"The Impatient Gardener's Lawn Book,\"Explains how to grow a green, beautiful lawn and offers advice on fertilizers, watering, and lawn diseases\"\",['Jerry Baker'],\"Random House Digital, Inc.\",1987,['Gardening']\n",
      "\"Natural Wonders of the World: Converting Measurements to Metric Units (Powermath),\"This book explores some of the world's most famous natural wonders, explaining measurements in the U.S. customary system and the metric system.\",\"[\"\"Kerri O'Donnell\"\"]\",\"The Rosen Publishing Group, Inc\",2004-08-01\",['Juvenile Nonfiction']\n",
      "The book of the lover and the beloved,,A spiritual philosophy which calls our attention to contemplate our connection with God. In this remarkable mystic work Lull shares his personal views about romance with his readers. Splendid and motivating.,\"['Ramon Llull', 'Kenneth Leech', 'Edgar Allison Peers']\",,1978,\n",
      "\"Foreignisms: A dictionary of foreign expressions commonly (and not so commonly) used in English,\"With more than 1,000 entries, a guide to pronunciation, examples and guidance on use in writing and speaking, Foreignisms not only educates and entertains but helps one incorporate les mots justes into conversation.\"\",['Tad Tuleja'],New York : Macmillan , London : Collier Macmillan,1989,\n",
      "\"Cinema and Soviet Society, From the Revolution To the Death of Stalin.,\"The story of Soviet film over the period covered by Peter Kenez is central to the history of World Cinema. In this revised, updated paperback edition of his classic text, Peter Kenez explores the roots of Soviet cinema in the film heritage of pre-Revolutionary Russia, tracing the changes in content, style, technical means and production capacities generated by the Revolution of 1917; the constraints on form and subject imposed from the 1930s in the name of Socialist Realism; the relative freedom of expression accorded to film-makers during World War Two; and the extraordinary repression during the final years of Stalin era. Based on original research both in the former Soviet Union and elsewhere in the primary sources of Eastern Europe, this is the essential student text on the period which produced the major films of such 'greats' as Eisenstein, Vertov, Kuleshov, Pudovkin and many more.\"\",['Peter Kenez'],I.B. Tauris,2000-12-15,\n",
      "\"Lincoln reconsidered,: Essays on the Civil War era,\"A \"\"brilliant\"\" look at America's sixteenth president by the New York Times-bestselling, Pulitzer Prize-winning author of Lincoln (American Historical Review). First published in 1956 and revised and updated for the twenty-first century, Lincoln Reconsidered is a masterpiece of Civil War scholarship. In a dozen eloquent, witty, and incisive essays, the author of the definitive biography of Abraham Lincoln offers a fresh perspective on topics previously shrouded in myth and hagiography and brings the president's tough-mindedness, strategic acumen, and political flexibility into sharp focus. From Lincoln's patchwork education to his contradictory interpretations of the Constitution and the legacy of the Founding Fathers, David Herbert Donald reveals the legal mind behind the legend of the Great Emancipator. \"\"Toward a Reconsideration of the Abolitionists\"\" sheds new light on the radicalism of the antislavery movement, while \"\"Herndon and Mary Lincoln\"\" brilliantly characterizes the complicated relationship between two of the president's closest companions. \"\"Getting Right with Lincoln\"\" and \"\"The Folklore Lincoln\"\" draw on the methods of cultural anthropology to produce a provocative analysis of Lincoln as symbol. No historian has done more to enhance our understanding of Lincoln's presidency and the causes and effects of the Civil War than Donald. Lincoln Reconsidered is an entertaining and accessible introduction to his work and a must-read for every student of American history.\"\",['David Herbert Donald'],Open Road Media,2016-03-22,\n",
      "\"The principles of science,: A treatise on logic and scientific method,\",['William Stanley Jevons'],,1874,\n",
      "\"The Monkey's Paw,\"Jacobs was the author of 13 volumes of short stories, and 18 of these stories have been brought together for the first time in this gripping collection of macabre fiction. This book features Gothic narratives, stories of the macabre and supernatural tales. Many of them are also infused with shrewd and sardonic humour or which Jacobs was justifiably famous.\"\",['W. W. Jacobs'],\"Academy Chicago Publishers, Limited\",1997,['Fiction']\n"
     ]
    }
   ],
   "source": [
    "for line in error_lines[:10]:\n",
    "    print(line)"
   ]
  },
  {
   "cell_type": "code",
   "execution_count": null,
   "id": "a8572c74",
   "metadata": {},
   "outputs": [
    {
     "name": "stdout",
     "output_type": "stream",
     "text": [
      "Dr. Seuss: American Icon,\"Philip Nel takes a fascinating look into the key aspects of Seuss's career - his poetry, politics, art, marketing, and place in the popular imagination.\"\" \"\"Nel argues convincingly that Dr. Seuss is one of the most influential poets in America. His nonsense verse, like that of Lewis Carroll and Edward Lear, has changed language itself, giving us new words like \"\"nerd.\"\" And Seuss's famously loopy artistic style - what Nel terms an \"\"energetic cartoon surrealism\"\" - has been equally important, inspiring artists like filmmaker Tim Burton and illustrator Lane Smith. --from back cover\",['Philip Nel'],A&C Black,2005-01-01,['Biography & Autobiography']\n"
     ]
    }
   ],
   "source": [
    "\n",
    "print(error_lines[1])"
   ]
  },
  {
   "cell_type": "code",
   "execution_count": null,
   "id": "e4849d87",
   "metadata": {},
   "outputs": [],
   "source": []
  }
 ],
 "metadata": {
  "kernelspec": {
   "display_name": ".venv",
   "language": "python",
   "name": "python3"
  },
  "language_info": {
   "codemirror_mode": {
    "name": "ipython",
    "version": 3
   },
   "file_extension": ".py",
   "mimetype": "text/x-python",
   "name": "python",
   "nbconvert_exporter": "python",
   "pygments_lexer": "ipython3",
   "version": "3.13.5"
  }
 },
 "nbformat": 4,
 "nbformat_minor": 5
}
