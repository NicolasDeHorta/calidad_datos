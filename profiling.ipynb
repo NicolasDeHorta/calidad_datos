{
 "cells": [
  {
   "cell_type": "code",
   "execution_count": 25,
   "metadata": {},
   "outputs": [
    {
     "name": "stdout",
     "output_type": "stream",
     "text": [
      "(523191, 9)\n"
     ]
    },
    {
     "name": "stderr",
     "output_type": "stream",
     "text": [
      "C:\\Users\\dehor\\AppData\\Local\\Temp\\ipykernel_12240\\831271280.py:7: DtypeWarning: Columns (3,5,6,7) have mixed types. Specify dtype option on import or set low_memory=False.\n",
      "  df2 = pd.read_csv(\"NL-books_part2.csv\", delimiter=\",\")\n"
     ]
    }
   ],
   "source": [
    "import numpy as np\n",
    "import pandas as pd\n",
    "from ydata_profiling import ProfileReport\n",
    "\n",
    "# Load both split files\n",
    "df1 = pd.read_csv(\"NL-books_part1.csv\", delimiter=\",\")\n",
    "df2 = pd.read_csv(\"NL-books_part2.csv\", delimiter=\",\")\n",
    "\n",
    "# Combine into one dataframe\n",
    "df = pd.concat([df1, df2], ignore_index=True)\n",
    "\n",
    "# Optional: verify shape\n",
    "print(df.shape)"
   ]
  },
  {
   "cell_type": "code",
   "execution_count": 26,
   "metadata": {},
   "outputs": [
    {
     "name": "stdout",
     "output_type": "stream",
     "text": [
      "<class 'pandas.core.frame.DataFrame'>\n",
      "RangeIndex: 523191 entries, 0 to 523190\n",
      "Data columns (total 9 columns):\n",
      " #   Column         Non-Null Count   Dtype  \n",
      "---  ------         --------------   -----  \n",
      " 0   id             523191 non-null  int64  \n",
      " 1   isbn           338287 non-null  object \n",
      " 2   title          441407 non-null  object \n",
      " 3   description    143802 non-null  object \n",
      " 4   authors        412525 non-null  object \n",
      " 5   publisher      136561 non-null  object \n",
      " 6   publisheddate  184379 non-null  object \n",
      " 7   categories     170063 non-null  object \n",
      " 8   avg_rating     325385 non-null  float64\n",
      "dtypes: float64(1), int64(1), object(7)\n",
      "memory usage: 35.9+ MB\n"
     ]
    }
   ],
   "source": [
    "df.info()"
   ]
  },
  {
   "cell_type": "code",
   "execution_count": 13,
   "metadata": {},
   "outputs": [
    {
     "name": "stderr",
     "output_type": "stream",
     "text": [
      "100%|██████████| 8/8 [00:13<00:00,  1.71s/it]14<00:09,  2.00s/it, Describe variable: avg_rating]\n",
      "Summarize dataset: 100%|██████████| 19/19 [00:16<00:00,  1.17it/s, Completed]                     \n",
      "Generate report structure: 100%|██████████| 1/1 [00:03<00:00,  3.80s/it]\n",
      "Render HTML: 100%|██████████| 1/1 [00:00<00:00, 13.98it/s]\n",
      "Export report to file: 100%|██████████| 1/1 [00:00<00:00, 1000.07it/s]\n"
     ]
    }
   ],
   "source": [
    "df_no_id = df.drop(columns=[\"id\"])\n",
    "profile = ProfileReport(df_no_id, title=\"Profiling Report\", html={\"inline\": False})\n",
    "profile.to_file(\"profiling_report_without_id.html\")"
   ]
  },
  {
   "cell_type": "code",
   "execution_count": 19,
   "metadata": {},
   "outputs": [
    {
     "name": "stdout",
     "output_type": "stream",
     "text": [
      "<class 'pandas.core.frame.DataFrame'>\n",
      "Index: 18048 entries, 0 to 23920\n",
      "Data columns (total 9 columns):\n",
      " #   Column         Non-Null Count  Dtype  \n",
      "---  ------         --------------  -----  \n",
      " 0   id             18048 non-null  int64  \n",
      " 1   isbn           18048 non-null  object \n",
      " 2   title          18048 non-null  object \n",
      " 3   description    18048 non-null  object \n",
      " 4   authors        18048 non-null  object \n",
      " 5   publisher      18048 non-null  object \n",
      " 6   publisheddate  18048 non-null  object \n",
      " 7   categories     18048 non-null  object \n",
      " 8   avg_rating     18048 non-null  float64\n",
      "dtypes: float64(1), int64(1), object(7)\n",
      "memory usage: 1.4+ MB\n"
     ]
    }
   ],
   "source": [
    "# get rows where all columns are not null\n",
    "df = df.dropna(how=\"any\")\n",
    "df.info()\n",
    "\n",
    "\n",
    "\n",
    "\n",
    "\n",
    "\n",
    "\n",
    "\n"
   ]
  },
  {
   "cell_type": "code",
   "execution_count": 22,
   "metadata": {},
   "outputs": [
    {
     "data": {
      "text/plain": [
       "3.4496006238639425"
      ]
     },
     "execution_count": 22,
     "metadata": {},
     "output_type": "execute_result"
    }
   ],
   "source": [
    "18048/523191 * 100"
   ]
  },
  {
   "cell_type": "code",
   "execution_count": null,
   "metadata": {},
   "outputs": [],
   "source": []
  }
 ],
 "metadata": {
  "kernelspec": {
   "display_name": ".venv",
   "language": "python",
   "name": "python3"
  },
  "language_info": {
   "codemirror_mode": {
    "name": "ipython",
    "version": 3
   },
   "file_extension": ".py",
   "mimetype": "text/x-python",
   "name": "python",
   "nbconvert_exporter": "python",
   "pygments_lexer": "ipython3",
   "version": "3.12.5"
  }
 },
 "nbformat": 4,
 "nbformat_minor": 2
}
